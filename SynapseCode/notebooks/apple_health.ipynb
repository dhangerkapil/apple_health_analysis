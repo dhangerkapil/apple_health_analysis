{
  "nbformat": 4,
  "nbformat_minor": 2,
  "metadata": {
    "kernelspec": {
      "name": "synapse_pyspark",
      "display_name": "Synapse PySpark"
    },
    "language_info": {
      "name": "python"
    },
    "save_output": true,
    "synapse_widget": {
      "version": "0.1",
      "state": {}
    }
  },
  "cells": [
    {
      "cell_type": "code",
      "execution_count": null,
      "source": [
        "%%pyspark\r\n",
        "activity = spark.read.load('datalake_path/ActiveEnergyBurned.csv', format='csv'\r\n",
        "## If header exists uncomment line below\r\n",
        ", header=True\r\n",
        ")\r\n",
        "display(df.limit(10))"
      ],
      "outputs": [],
      "metadata": {
        "microsoft": {
          "language": "python"
        },
        "collapsed": false
      }
    },
    {
      "cell_type": "code",
      "execution_count": null,
      "source": [
        "#view column data types\r\n",
        "activity.dtypes"
      ],
      "outputs": [],
      "metadata": {
        "jupyter": {
          "source_hidden": false,
          "outputs_hidden": false
        },
        "nteract": {
          "transient": {
            "deleting": false
          }
        },
        "collapsed": true
      }
    },
    {
      "cell_type": "code",
      "execution_count": null,
      "source": [
        "# functions to convert UTC to EST time zone and extract date/time elements\r\n",
        "convert_tz = lambda x: x.to_pydatetime()\r\n",
        "get_year = lambda x: convert_tz(x).year\r\n",
        "get_month = lambda x: '{}-{:02}'.format(convert_tz(x).year, convert_tz(x).month) #inefficient\r\n",
        "get_date = lambda x: '{}-{:02}-{:02}'.format(convert_tz(x).year, convert_tz(x).month, convert_tz(x).day) #inefficient\r\n",
        "get_day = lambda x: convert_tz(x).day\r\n",
        "get_hour = lambda x: convert_tz(x).hour\r\n",
        "get_minute = lambda x: convert_tz(x).minute\r\n",
        "get_day_of_week = lambda x: convert_tz(x).weekday()\r\n",
        "\r\n"
      ],
      "outputs": [],
      "metadata": {
        "jupyter": {
          "source_hidden": false,
          "outputs_hidden": false
        },
        "nteract": {
          "transient": {
            "deleting": false
          }
        },
        "collapsed": true
      }
    },
    {
      "cell_type": "code",
      "execution_count": null,
      "source": [
        "from datetime import date, datetime, timedelta as td\r\n",
        "import pytz\r\n",
        "import numpy as np\r\n",
        "import pandas as pd\r\n",
        "\r\n",
        "# parse out date and time elements as EST time\r\n",
        "activity['startDate'] = pd.to_datetime(activity['startDate'])\r\n",
        "activity['year'] = activity['startDate'].map(get_year)\r\n",
        "activity['month'] = activity['startDate'].map(get_month)\r\n",
        "activity['date'] = activity['startDate'].map(get_date)\r\n",
        "activity['day'] = activity['startDate'].map(get_day)\r\n",
        "activity['hour'] = activity['startDate'].map(get_hour)\r\n",
        "activity['dow'] = activity['startDate'].map(get_day_of_week)"
      ],
      "outputs": [],
      "metadata": {
        "jupyter": {
          "source_hidden": false,
          "outputs_hidden": false
        },
        "nteract": {
          "transient": {
            "deleting": false
          }
        },
        "collapsed": true
      }
    }
  ]
}