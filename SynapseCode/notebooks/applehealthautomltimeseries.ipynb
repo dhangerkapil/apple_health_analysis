{
  "nbformat": 4,
  "nbformat_minor": 2,
  "metadata": {
    "kernelspec": {
      "name": "synapse_pyspark",
      "display_name": "Synapse PySpark"
    },
    "language_info": {
      "name": "python"
    },
    "save_output": true,
    "synapse_widget": {
      "version": "0.1",
      "state": {}
    }
  },
  "cells": [
    {
      "cell_type": "code",
      "execution_count": 2,
      "source": [
        "import azureml.core\r\n",
        "\r\n",
        "from azureml.core import Experiment, Workspace, Dataset, Datastore\r\n",
        "from azureml.train.automl import AutoMLConfig\r\n",
        "from azureml.data.dataset_factory import TabularDatasetFactory"
      ],
      "outputs": [
        {
          "output_type": "display_data",
          "data": {
            "text/plain": [
              "StatementMeta(, , , SessionError, )"
            ],
            "application/vnd.livy.statement-meta+json": {
              "spark_pool": null,
              "session_id": null,
              "statement_id": null,
              "state": "session_error",
              "livy_statement_state": null,
              "queued_time": "2021-07-14T13:04:56.0116804Z",
              "session_start_time": "2021-07-14T13:04:56.0502606Z",
              "execution_start_time": null,
              "execution_finish_time": null
            }
          },
          "metadata": {}
        },
        {
          "output_type": "error",
          "ename": "InvalidHttpRequestToLivy",
          "evalue": "Your Spark job requested 12 vcores. However, the pool only has 4 vcores available out of quota of 16 vcores. Try ending the running job(s) in the pool, reducing the numbers of vcores requested, increasing the pool maximum size or using another pool. HTTP status code: 400. Trace ID: d4ebf429-402b-43aa-9b38-2b60a26103c4.",
          "traceback": [
            "InvalidHttpRequestToLivy: Your Spark job requested 12 vcores. However, the pool only has 4 vcores available out of quota of 16 vcores. Try ending the running job(s) in the pool, reducing the numbers of vcores requested, increasing the pool maximum size or using another pool. HTTP status code: 400. Trace ID: d4ebf429-402b-43aa-9b38-2b60a26103c4."
          ]
        }
      ],
      "metadata": {}
    },
    {
      "cell_type": "code",
      "execution_count": null,
      "source": [
        "subscription_id = \"your_subscription_id\"\r\n",
        "resource_group = \"your_resource_group\"\r\n",
        "workspace_name = \"your_mlworkspace\"\r\n",
        "experiment_name = \"experimentname\"\r\n",
        "\r\n",
        "ws = Workspace(subscription_id = subscription_id, resource_group = resource_group, workspace_name = workspace_name)\r\n",
        "experiment = Experiment(ws, experiment_name)"
      ],
      "outputs": [],
      "metadata": {}
    },
    {
      "cell_type": "code",
      "execution_count": null,
      "source": [
        "df = spark.sql(\"SELECT * FROM default.activitysummary\")\r\n",
        "\r\n",
        "datastore = Datastore.get_default(ws)\r\n",
        "dataset = TabularDatasetFactory.register_spark_dataframe(df, datastore, name = experiment_name + \"-dataset\")"
      ],
      "outputs": [
        {
          "output_type": "display_data",
          "data": {
            "text/plain": [
              "StatementMeta(, , , Cancelled, )"
            ],
            "application/vnd.livy.statement-meta+json": {
              "spark_pool": null,
              "session_id": null,
              "statement_id": null,
              "state": "cancelled",
              "livy_statement_state": null,
              "queued_time": "2021-07-14T13:03:44.2313004Z",
              "session_start_time": null,
              "execution_start_time": null,
              "execution_finish_time": "2021-07-14T13:03:44.3674015Z"
            }
          },
          "metadata": {}
        }
      ],
      "metadata": {}
    },
    {
      "cell_type": "code",
      "execution_count": null,
      "source": [
        "from azureml.automl.core.forecasting_parameters import ForecastingParameters\r\n",
        "\r\n",
        "forecasting_parameters = ForecastingParameters(\r\n",
        "    time_column_name = \"dateComponents\",\r\n",
        "    forecast_horizon = \"auto\",\r\n",
        "    time_series_id_column_names = [\"appleExerciseTime\",\"appleStandHours\"],\r\n",
        ")\r\n",
        "\r\n",
        "automl_config = AutoMLConfig(spark_context = sc,\r\n",
        "                             task = \"forecasting\",\r\n",
        "                             training_data = dataset,\r\n",
        "                             label_column_name = \"activeEnergyBurned\",\r\n",
        "                             primary_metric = \"normalized_root_mean_squared_error\",\r\n",
        "                             experiment_timeout_hours = 3,\r\n",
        "                             max_concurrent_iterations = 2,\r\n",
        "                             n_cross_validations = 5,\r\n",
        "                             forecasting_parameters = forecasting_parameters)"
      ],
      "outputs": [
        {
          "output_type": "display_data",
          "data": {
            "text/plain": [
              "StatementMeta(, , , Cancelled, )"
            ],
            "application/vnd.livy.statement-meta+json": {
              "spark_pool": null,
              "session_id": null,
              "statement_id": null,
              "state": "cancelled",
              "livy_statement_state": null,
              "queued_time": "2021-07-14T13:03:44.2327823Z",
              "session_start_time": null,
              "execution_start_time": null,
              "execution_finish_time": "2021-07-14T13:03:44.3681429Z"
            }
          },
          "metadata": {}
        }
      ],
      "metadata": {}
    },
    {
      "cell_type": "code",
      "execution_count": null,
      "source": [
        "run = experiment.submit(automl_config)"
      ],
      "outputs": [
        {
          "output_type": "display_data",
          "data": {
            "text/plain": [
              "StatementMeta(, , , Cancelled, )"
            ],
            "application/vnd.livy.statement-meta+json": {
              "spark_pool": null,
              "session_id": null,
              "statement_id": null,
              "state": "cancelled",
              "livy_statement_state": null,
              "queued_time": "2021-07-14T13:03:44.2344602Z",
              "session_start_time": null,
              "execution_start_time": null,
              "execution_finish_time": "2021-07-14T13:03:44.3686899Z"
            }
          },
          "metadata": {}
        }
      ],
      "metadata": {}
    },
    {
      "cell_type": "code",
      "execution_count": null,
      "source": [
        "displayHTML(\"<a href={} target='_blank'>Your experiment in Azure Machine Learning portal: {}</a>\".format(run.get_portal_url(), run.id))"
      ],
      "outputs": [
        {
          "output_type": "display_data",
          "data": {
            "text/plain": [
              "StatementMeta(, , , Cancelled, )"
            ],
            "application/vnd.livy.statement-meta+json": {
              "spark_pool": null,
              "session_id": null,
              "statement_id": null,
              "state": "cancelled",
              "livy_statement_state": null,
              "queued_time": "2021-07-14T13:03:44.2361985Z",
              "session_start_time": null,
              "execution_start_time": null,
              "execution_finish_time": "2021-07-14T13:03:44.3692737Z"
            }
          },
          "metadata": {}
        }
      ],
      "metadata": {}
    },
    {
      "cell_type": "code",
      "execution_count": null,
      "source": [
        "run.wait_for_completion()\r\n",
        "\r\n",
        "import mlflow\r\n",
        "\r\n",
        "# Get best model from automl run\r\n",
        "best_run, non_onnx_model = run.get_output()\r\n",
        "\r\n",
        "artifact_path = experiment_name + \"_artifact\"\r\n",
        "\r\n",
        "mlflow.set_tracking_uri(ws.get_mlflow_tracking_uri())\r\n",
        "mlflow.set_experiment(experiment_name)\r\n",
        "\r\n",
        "with mlflow.start_run() as run:\r\n",
        "    # Save the model to the outputs directory for capture\r\n",
        "    mlflow.sklearn.log_model(non_onnx_model, artifact_path)\r\n",
        "\r\n",
        "    # Register the model to AML model registry\r\n",
        "    mlflow.register_model(\"runs:/\" + run.info.run_id + \"/\" + artifact_path, \"kdsynapseworkspace-activitysummary-timeseries-Best\")"
      ],
      "outputs": [
        {
          "output_type": "display_data",
          "data": {
            "text/plain": [
              "StatementMeta(, , , Cancelled, )"
            ],
            "application/vnd.livy.statement-meta+json": {
              "spark_pool": null,
              "session_id": null,
              "statement_id": null,
              "state": "cancelled",
              "livy_statement_state": null,
              "queued_time": "2021-07-14T13:03:44.2383071Z",
              "session_start_time": null,
              "execution_start_time": null,
              "execution_finish_time": "2021-07-14T13:03:44.3697738Z"
            }
          },
          "metadata": {}
        }
      ],
      "metadata": {}
    }
  ]
}