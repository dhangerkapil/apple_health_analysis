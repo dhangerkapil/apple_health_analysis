{
  "nbformat": 4,
  "nbformat_minor": 2,
  "metadata": {
    "kernelspec": {
      "name": "synapse_pyspark",
      "display_name": "Synapse PySpark"
    },
    "language_info": {
      "name": "python"
    },
    "save_output": true,
    "synapse_widget": {
      "version": "0.1",
      "state": {}
    }
  },
  "cells": [
    {
      "cell_type": "code",
      "execution_count": null,
      "source": [
        "import azureml.core\r\n",
        "\r\n",
        "from azureml.core import Experiment, Workspace, Dataset, Datastore\r\n",
        "from azureml.train.automl import AutoMLConfig\r\n",
        "from azureml.data.dataset_factory import TabularDatasetFactory"
      ],
      "outputs": [],
      "metadata": {}
    },
    {
      "cell_type": "code",
      "execution_count": null,
      "source": [
        "subscription_id = \"your_subscription_id\"\r\n",
        "resource_group = \"your_resource_group\"\r\n",
        "workspace_name = \"your_mlworkspace\"\r\n",
        "experiment_name = \"experimentname\"\r\n",
        "\r\n",
        "ws = Workspace(subscription_id = subscription_id, resource_group = resource_group, workspace_name = workspace_name)\r\n",
        "experiment = Experiment(ws, experiment_name)"
      ],
      "outputs": [],
      "metadata": {}
    },
    {
      "cell_type": "code",
      "execution_count": null,
      "source": [
        "df = spark.sql(\"SELECT * FROM default.activitysummary\")\r\n",
        "\r\n",
        "datastore = Datastore.get_default(ws)\r\n",
        "dataset = TabularDatasetFactory.register_spark_dataframe(df, datastore, name = experiment_name + \"-dataset\")"
      ],
      "outputs": [],
      "metadata": {}
    },
    {
      "cell_type": "code",
      "execution_count": null,
      "source": [
        "from azureml.automl.core.forecasting_parameters import ForecastingParameters\r\n",
        "\r\n",
        "forecasting_parameters = ForecastingParameters(\r\n",
        "    time_column_name = \"dateComponents\",\r\n",
        "    forecast_horizon = \"auto\",\r\n",
        "    time_series_id_column_names = [\"appleExerciseTime\",\"appleStandHours\"],\r\n",
        ")\r\n",
        "\r\n",
        "automl_config = AutoMLConfig(spark_context = sc,\r\n",
        "                             task = \"forecasting\",\r\n",
        "                             training_data = dataset,\r\n",
        "                             label_column_name = \"activeEnergyBurned\",\r\n",
        "                             primary_metric = \"normalized_root_mean_squared_error\",\r\n",
        "                             experiment_timeout_hours = 3,\r\n",
        "                             max_concurrent_iterations = 2,\r\n",
        "                             n_cross_validations = 5,\r\n",
        "                             forecasting_parameters = forecasting_parameters)"
      ],
      "outputs": [],
      "metadata": {}
    },
    {
      "cell_type": "code",
      "execution_count": null,
      "source": [
        "run = experiment.submit(automl_config)"
      ],
      "outputs": [],
      "metadata": {}
    },
    {
      "cell_type": "code",
      "execution_count": null,
      "source": [
        "displayHTML(\"<a href={} target='_blank'>Your experiment in Azure Machine Learning portal: {}</a>\".format(run.get_portal_url(), run.id))"
      ],
      "outputs": [],
      "metadata": {}
    },
    {
      "cell_type": "code",
      "execution_count": null,
      "source": [
        "run.wait_for_completion()\r\n",
        "\r\n",
        "import mlflow\r\n",
        "\r\n",
        "# Get best model from automl run\r\n",
        "best_run, non_onnx_model = run.get_output()\r\n",
        "\r\n",
        "artifact_path = experiment_name + \"_artifact\"\r\n",
        "\r\n",
        "mlflow.set_tracking_uri(ws.get_mlflow_tracking_uri())\r\n",
        "mlflow.set_experiment(experiment_name)\r\n",
        "\r\n",
        "with mlflow.start_run() as run:\r\n",
        "    # Save the model to the outputs directory for capture\r\n",
        "    mlflow.sklearn.log_model(non_onnx_model, artifact_path)\r\n",
        "\r\n",
        "    # Register the model to AML model registry\r\n",
        "    mlflow.register_model(\"runs:/\" + run.info.run_id + \"/\" + artifact_path, \"activitysummary-timeseries-Best\")"
      ],
      "outputs": [],
      "metadata": {}
    }
  ]
}